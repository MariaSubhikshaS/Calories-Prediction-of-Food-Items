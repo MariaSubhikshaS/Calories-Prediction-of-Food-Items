{
 "cells": [
  {
   "cell_type": "code",
   "execution_count": 1,
   "id": "5945dff3",
   "metadata": {},
   "outputs": [],
   "source": [
    "import pandas as pd\n",
    "import numpy as np\n",
    "import matplotlib.pyplot as plt\n",
    "import seaborn as sns\n",
    "from sklearn.model_selection import train_test_split\n",
    "from sklearn.linear_model import LinearRegression\n",
    "from sklearn.metrics import mean_absolute_error, mean_squared_error, r2_score"
   ]
  },
  {
   "cell_type": "code",
   "execution_count": 2,
   "id": "c09abb5a",
   "metadata": {},
   "outputs": [],
   "source": [
    "data = pd.read_csv('FOOD-DATA-GROUP1.csv')"
   ]
  },
  {
   "cell_type": "code",
   "execution_count": 3,
   "id": "972b68d8",
   "metadata": {},
   "outputs": [
    {
     "name": "stdout",
     "output_type": "stream",
     "text": [
      "   Unnamed: 0.1  Unnamed: 0                              food  Caloric Value  \\\n",
      "0             0           0                      cream cheese             51   \n",
      "1             1           1                 neufchatel cheese            215   \n",
      "2             2           2  requeijao cremoso light catupiry             49   \n",
      "3             3           3                    ricotta cheese             30   \n",
      "4             4           4              cream cheese low fat             30   \n",
      "\n",
      "    Fat  Saturated Fats  Monounsaturated Fats  Polyunsaturated Fats  \\\n",
      "0   5.0             2.9                   1.3                 0.200   \n",
      "1  19.4            10.9                   4.9                 0.800   \n",
      "2   3.6             2.3                   0.9                 0.000   \n",
      "3   2.0             1.3                   0.5                 0.002   \n",
      "4   2.3             1.4                   0.6                 0.042   \n",
      "\n",
      "   Carbohydrates  Sugars  ...  Calcium  Copper   Iron  Magnesium  Manganese  \\\n",
      "0            0.8   0.500  ...    0.008  14.100  0.082      0.027      1.300   \n",
      "1            3.1   2.700  ...   99.500   0.034  0.100      8.500      0.088   \n",
      "2            0.9   3.400  ...    0.000   0.000  0.000      0.000      0.000   \n",
      "3            1.5   0.091  ...    0.097  41.200  0.097      0.096      4.000   \n",
      "4            1.2   0.900  ...   22.200   0.072  0.008      1.200      0.098   \n",
      "\n",
      "   Phosphorus  Potassium  Selenium   Zinc  Nutrition Density  \n",
      "0       0.091       15.5    19.100  0.039              7.070  \n",
      "1     117.300      129.2     0.054  0.700            130.100  \n",
      "2       0.000        0.0     0.000  0.000              5.400  \n",
      "3       0.024       30.8    43.800  0.035              5.196  \n",
      "4      22.800       37.1     0.034  0.053             27.007  \n",
      "\n",
      "[5 rows x 37 columns]\n"
     ]
    }
   ],
   "source": [
    "print(data.head())"
   ]
  },
  {
   "cell_type": "code",
   "execution_count": 4,
   "id": "4758f207",
   "metadata": {},
   "outputs": [
    {
     "name": "stdout",
     "output_type": "stream",
     "text": [
      "Unnamed: 0.1            0\n",
      "Unnamed: 0              0\n",
      "food                    0\n",
      "Caloric Value           0\n",
      "Fat                     0\n",
      "Saturated Fats          0\n",
      "Monounsaturated Fats    0\n",
      "Polyunsaturated Fats    0\n",
      "Carbohydrates           0\n",
      "Sugars                  0\n",
      "Protein                 0\n",
      "Dietary Fiber           0\n",
      "Cholesterol             0\n",
      "Sodium                  0\n",
      "Water                   0\n",
      "Vitamin A               0\n",
      "Vitamin B1              0\n",
      "Vitamin B11             0\n",
      "Vitamin B12             0\n",
      "Vitamin B2              0\n",
      "Vitamin B3              0\n",
      "Vitamin B5              0\n",
      "Vitamin B6              0\n",
      "Vitamin C               0\n",
      "Vitamin D               0\n",
      "Vitamin E               0\n",
      "Vitamin K               0\n",
      "Calcium                 0\n",
      "Copper                  0\n",
      "Iron                    0\n",
      "Magnesium               0\n",
      "Manganese               0\n",
      "Phosphorus              0\n",
      "Potassium               0\n",
      "Selenium                0\n",
      "Zinc                    0\n",
      "Nutrition Density       0\n",
      "dtype: int64\n"
     ]
    }
   ],
   "source": [
    "print(data.isnull().sum())"
   ]
  },
  {
   "cell_type": "code",
   "execution_count": 5,
   "id": "9da9de20",
   "metadata": {},
   "outputs": [
    {
     "name": "stdout",
     "output_type": "stream",
     "text": [
      "       Unnamed: 0.1  Unnamed: 0  Caloric Value         Fat  Saturated Fats  \\\n",
      "count    551.000000  551.000000     551.000000  551.000000      551.000000   \n",
      "mean     275.000000  275.000000     237.359347   10.766933        3.722715   \n",
      "std      159.204271  159.204271     199.235598   12.544196        5.397021   \n",
      "min        0.000000    0.000000       3.000000    0.000000        0.000000   \n",
      "25%      137.500000  137.500000      94.500000    2.500000        0.500000   \n",
      "50%      275.000000  275.000000     186.000000    6.600000        1.800000   \n",
      "75%      412.500000  412.500000     337.000000   14.400000        4.800000   \n",
      "max      550.000000  550.000000    1578.000000   87.500000       43.500000   \n",
      "\n",
      "       Monounsaturated Fats  Polyunsaturated Fats  Carbohydrates      Sugars  \\\n",
      "count            551.000000            551.000000     551.000000  551.000000   \n",
      "mean               4.001564              2.170793      15.819036    2.708907   \n",
      "std                5.540608              3.470820      20.289320    7.455666   \n",
      "min                0.000000              0.000000       0.000000    0.000000   \n",
      "25%                0.600000              0.400000       0.000000    0.000000   \n",
      "50%                2.200000              1.100000       5.100000    0.000000   \n",
      "75%                5.150000              2.600000      28.700000    2.200000   \n",
      "max               48.000000             40.100000     128.300000   70.800000   \n",
      "\n",
      "          Protein  ...      Calcium      Copper        Iron   Magnesium  \\\n",
      "count  551.000000  ...   551.000000  551.000000  551.000000  551.000000   \n",
      "mean    18.417857  ...    94.848290    8.579102    1.530819   34.549289   \n",
      "std     18.932404  ...   170.568662   44.379145    1.883603   45.296399   \n",
      "min      0.000000  ...     0.000000    0.000000    0.000000    0.000000   \n",
      "25%      5.300000  ...     9.650000    0.049000    0.300000    6.500000   \n",
      "50%     11.900000  ...    38.300000    0.100000    1.000000   21.100000   \n",
      "75%     25.650000  ...   101.400000    0.300000    2.200000   47.100000   \n",
      "max     86.900000  ...  1283.500000  668.600000   21.100000  376.200000   \n",
      "\n",
      "        Manganese   Phosphorus    Potassium     Selenium        Zinc  \\\n",
      "count  551.000000   551.000000   551.000000   551.000000  551.000000   \n",
      "mean     3.537002   219.735563   347.234483    35.009212    1.652964   \n",
      "std     12.595878   243.550965   380.140492   153.034744    6.519636   \n",
      "min      0.000000     0.000000     0.000000     0.000000    0.000000   \n",
      "25%      0.048000    50.250000    90.000000     0.021000    0.300000   \n",
      "50%      0.100000   134.100000   223.200000     0.050000    0.800000   \n",
      "75%      0.500000   317.450000   456.100000     0.084000    1.700000   \n",
      "max    111.600000  1385.100000  3198.400000  1679.000000  147.300000   \n",
      "\n",
      "       Nutrition Density  \n",
      "count         551.000000  \n",
      "mean          144.663207  \n",
      "std           187.047623  \n",
      "min             1.025000  \n",
      "25%            39.933500  \n",
      "50%            84.100000  \n",
      "75%           170.691500  \n",
      "max          1337.000000  \n",
      "\n",
      "[8 rows x 36 columns]\n"
     ]
    }
   ],
   "source": [
    "print(data.describe())"
   ]
  },
  {
   "cell_type": "code",
   "execution_count": 9,
   "id": "1d81ba8e",
   "metadata": {},
   "outputs": [],
   "source": [
    "X = data[['Fat', 'Protein', 'Carbohydrates']]\n",
    "y = data['Caloric Value']"
   ]
  },
  {
   "cell_type": "code",
   "execution_count": 10,
   "id": "6b18cf72",
   "metadata": {},
   "outputs": [],
   "source": [
    "X_train, X_test, y_train, y_test = train_test_split(X, y, test_size=0.2, random_state=42)"
   ]
  },
  {
   "cell_type": "code",
   "execution_count": 11,
   "id": "6677aacc",
   "metadata": {},
   "outputs": [
    {
     "data": {
      "text/html": [
       "<style>#sk-container-id-1 {color: black;}#sk-container-id-1 pre{padding: 0;}#sk-container-id-1 div.sk-toggleable {background-color: white;}#sk-container-id-1 label.sk-toggleable__label {cursor: pointer;display: block;width: 100%;margin-bottom: 0;padding: 0.3em;box-sizing: border-box;text-align: center;}#sk-container-id-1 label.sk-toggleable__label-arrow:before {content: \"▸\";float: left;margin-right: 0.25em;color: #696969;}#sk-container-id-1 label.sk-toggleable__label-arrow:hover:before {color: black;}#sk-container-id-1 div.sk-estimator:hover label.sk-toggleable__label-arrow:before {color: black;}#sk-container-id-1 div.sk-toggleable__content {max-height: 0;max-width: 0;overflow: hidden;text-align: left;background-color: #f0f8ff;}#sk-container-id-1 div.sk-toggleable__content pre {margin: 0.2em;color: black;border-radius: 0.25em;background-color: #f0f8ff;}#sk-container-id-1 input.sk-toggleable__control:checked~div.sk-toggleable__content {max-height: 200px;max-width: 100%;overflow: auto;}#sk-container-id-1 input.sk-toggleable__control:checked~label.sk-toggleable__label-arrow:before {content: \"▾\";}#sk-container-id-1 div.sk-estimator input.sk-toggleable__control:checked~label.sk-toggleable__label {background-color: #d4ebff;}#sk-container-id-1 div.sk-label input.sk-toggleable__control:checked~label.sk-toggleable__label {background-color: #d4ebff;}#sk-container-id-1 input.sk-hidden--visually {border: 0;clip: rect(1px 1px 1px 1px);clip: rect(1px, 1px, 1px, 1px);height: 1px;margin: -1px;overflow: hidden;padding: 0;position: absolute;width: 1px;}#sk-container-id-1 div.sk-estimator {font-family: monospace;background-color: #f0f8ff;border: 1px dotted black;border-radius: 0.25em;box-sizing: border-box;margin-bottom: 0.5em;}#sk-container-id-1 div.sk-estimator:hover {background-color: #d4ebff;}#sk-container-id-1 div.sk-parallel-item::after {content: \"\";width: 100%;border-bottom: 1px solid gray;flex-grow: 1;}#sk-container-id-1 div.sk-label:hover label.sk-toggleable__label {background-color: #d4ebff;}#sk-container-id-1 div.sk-serial::before {content: \"\";position: absolute;border-left: 1px solid gray;box-sizing: border-box;top: 0;bottom: 0;left: 50%;z-index: 0;}#sk-container-id-1 div.sk-serial {display: flex;flex-direction: column;align-items: center;background-color: white;padding-right: 0.2em;padding-left: 0.2em;position: relative;}#sk-container-id-1 div.sk-item {position: relative;z-index: 1;}#sk-container-id-1 div.sk-parallel {display: flex;align-items: stretch;justify-content: center;background-color: white;position: relative;}#sk-container-id-1 div.sk-item::before, #sk-container-id-1 div.sk-parallel-item::before {content: \"\";position: absolute;border-left: 1px solid gray;box-sizing: border-box;top: 0;bottom: 0;left: 50%;z-index: -1;}#sk-container-id-1 div.sk-parallel-item {display: flex;flex-direction: column;z-index: 1;position: relative;background-color: white;}#sk-container-id-1 div.sk-parallel-item:first-child::after {align-self: flex-end;width: 50%;}#sk-container-id-1 div.sk-parallel-item:last-child::after {align-self: flex-start;width: 50%;}#sk-container-id-1 div.sk-parallel-item:only-child::after {width: 0;}#sk-container-id-1 div.sk-dashed-wrapped {border: 1px dashed gray;margin: 0 0.4em 0.5em 0.4em;box-sizing: border-box;padding-bottom: 0.4em;background-color: white;}#sk-container-id-1 div.sk-label label {font-family: monospace;font-weight: bold;display: inline-block;line-height: 1.2em;}#sk-container-id-1 div.sk-label-container {text-align: center;}#sk-container-id-1 div.sk-container {/* jupyter's `normalize.less` sets `[hidden] { display: none; }` but bootstrap.min.css set `[hidden] { display: none !important; }` so we also need the `!important` here to be able to override the default hidden behavior on the sphinx rendered scikit-learn.org. See: https://github.com/scikit-learn/scikit-learn/issues/21755 */display: inline-block !important;position: relative;}#sk-container-id-1 div.sk-text-repr-fallback {display: none;}</style><div id=\"sk-container-id-1\" class=\"sk-top-container\"><div class=\"sk-text-repr-fallback\"><pre>LinearRegression()</pre><b>In a Jupyter environment, please rerun this cell to show the HTML representation or trust the notebook. <br />On GitHub, the HTML representation is unable to render, please try loading this page with nbviewer.org.</b></div><div class=\"sk-container\" hidden><div class=\"sk-item\"><div class=\"sk-estimator sk-toggleable\"><input class=\"sk-toggleable__control sk-hidden--visually\" id=\"sk-estimator-id-1\" type=\"checkbox\" checked><label for=\"sk-estimator-id-1\" class=\"sk-toggleable__label sk-toggleable__label-arrow\">LinearRegression</label><div class=\"sk-toggleable__content\"><pre>LinearRegression()</pre></div></div></div></div></div>"
      ],
      "text/plain": [
       "LinearRegression()"
      ]
     },
     "execution_count": 11,
     "metadata": {},
     "output_type": "execute_result"
    }
   ],
   "source": [
    "model = LinearRegression()\n",
    "model.fit(X_train, y_train)"
   ]
  },
  {
   "cell_type": "code",
   "execution_count": 12,
   "id": "ab1ced5f",
   "metadata": {},
   "outputs": [],
   "source": [
    "y_pred = model.predict(X_test)"
   ]
  },
  {
   "cell_type": "code",
   "execution_count": 14,
   "id": "45f73c44",
   "metadata": {},
   "outputs": [],
   "source": [
    "mae = mean_absolute_error(y_test, y_pred)\n",
    "mse = mean_squared_error(y_test, y_pred)\n",
    "rmse = np.sqrt(mse)\n",
    "r2 = r2_score(y_test, y_pred)"
   ]
  },
  {
   "cell_type": "code",
   "execution_count": 15,
   "id": "9bd53cfb",
   "metadata": {},
   "outputs": [
    {
     "name": "stdout",
     "output_type": "stream",
     "text": [
      "Mean Absolute Error: 7.005380368144234\n",
      "Mean Squared Error: 840.8646129572633\n",
      "Root Mean Squared Error: 28.997665646690653\n",
      "R-squared: 0.9843819217204031\n"
     ]
    }
   ],
   "source": [
    "print(f'Mean Absolute Error: {mae}')\n",
    "print(f'Mean Squared Error: {mse}')\n",
    "print(f'Root Mean Squared Error: {rmse}')\n",
    "print(f'R-squared: {r2}')"
   ]
  },
  {
   "cell_type": "code",
   "execution_count": 41,
   "id": "6f0e086a",
   "metadata": {},
   "outputs": [],
   "source": [
    "from sklearn.preprocessing import StandardScaler\n",
    "scaler = StandardScaler()\n",
    "X_train_scaled = scaler.fit_transform(X_train)\n",
    "X_test_scaled = scaler.transform(X_test)"
   ]
  },
  {
   "cell_type": "code",
   "execution_count": 56,
   "id": "11891d91",
   "metadata": {},
   "outputs": [],
   "source": [
    "example_food = pd.DataFrame({\n",
    "    'Fat': [45],\n",
    "    'Protein': [0.8],\n",
    "    'Carbohydrates': [225],\n",
    "})"
   ]
  },
  {
   "cell_type": "code",
   "execution_count": 57,
   "id": "2cdaa012",
   "metadata": {},
   "outputs": [],
   "source": [
    "example_food_scaled = scaler.transform(example_food)"
   ]
  },
  {
   "cell_type": "code",
   "execution_count": 58,
   "id": "2e170615",
   "metadata": {},
   "outputs": [
    {
     "name": "stderr",
     "output_type": "stream",
     "text": [
      "C:\\Users\\Sweet Home\\anaconda3\\Lib\\site-packages\\sklearn\\base.py:464: UserWarning: X does not have valid feature names, but LinearRegression was fitted with feature names\n",
      "  warnings.warn(\n"
     ]
    }
   ],
   "source": [
    "predicted_calories = model.predict(example_food_scaled)"
   ]
  },
  {
   "cell_type": "code",
   "execution_count": 59,
   "id": "5911e981",
   "metadata": {},
   "outputs": [
    {
     "name": "stdout",
     "output_type": "stream",
     "text": [
      "Predicted calories for the example food: 66.41 calories.\n"
     ]
    }
   ],
   "source": [
    "print(f'Predicted calories for the example food: {predicted_calories[0]:.2f} calories.')"
   ]
  },
  {
   "cell_type": "code",
   "execution_count": 51,
   "id": "f23601aa",
   "metadata": {},
   "outputs": [
    {
     "data": {
      "image/png": "[encoded data removed]",
      "text/plain": [
       "<Figure size 640x480 with 1 Axes>"
      ]
     },
     "metadata": {},
     "output_type": "display_data"
    }
   ],
   "source": [
    "plt.scatter(y_test, y_pred)\n",
    "plt.xlabel('Actual Calories')\n",
    "plt.ylabel('Predicted Calories')\n",
    "plt.title('Actual vs Predicted Calories')\n",
    "plt.show()"
   ]
  },
  {
   "cell_type": "code",
   "execution_count": 60,
   "id": "ee6d57a3",
   "metadata": {},
   "outputs": [
    {
     "name": "stdout",
     "output_type": "stream",
     "text": [
      "The predicted calories for a food item with 45g fat, 0.8g protein, and 225g carbs is 1260.30 calories.\n"
     ]
    },
    {
     "name": "stderr",
     "output_type": "stream",
     "text": [
      "C:\\Users\\Sweet Home\\anaconda3\\Lib\\site-packages\\sklearn\\base.py:464: UserWarning: X does not have valid feature names, but LinearRegression was fitted with feature names\n",
      "  warnings.warn(\n"
     ]
    }
   ],
   "source": [
    "def predict_calories(Fat, Protein, Carbohydrates):\n",
    "    input_features = np.array([[Fat, Protein, Carbohydrates]])\n",
    "    predicted_calories = model.predict(input_features)\n",
    "    return predicted_calories[0]\n",
    "\n",
    "Fat = 45\n",
    "Protein = 0.8\n",
    "Carbohydrates = 225\n",
    "\n",
    "predicted_calories = predict_calories(Fat, Protein, Carbohydrates)\n",
    "print(f'The predicted calories for a food item with {Fat}g fat, {Protein}g protein, and {Carbohydrates}g carbs is {predicted_calories:.2f} calories.')"
   ]
  },
  {
   "cell_type": "code",
   "execution_count": null,
   "id": "1dd9a24e",
   "metadata": {},
   "outputs": [],
   "source": []
  }
 ],
 "metadata": {
  "kernelspec": {
   "display_name": "Python 3 (ipykernel)",
   "language": "python",
   "name": "python3"
  },
  "language_info": {
   "codemirror_mode": {
    "name": "ipython",
    "version": 3
   },
   "file_extension": ".py",
   "mimetype": "text/x-python",
   "name": "python",
   "nbconvert_exporter": "python",
   "pygments_lexer": "ipython3",
   "version": "3.11.4"
  }
 },
 "nbformat": 4,
 "nbformat_minor": 5
}
